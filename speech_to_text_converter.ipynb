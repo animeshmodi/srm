{
  "nbformat": 4,
  "nbformat_minor": 0,
  "metadata": {
    "colab": {
      "provenance": []
    },
    "kernelspec": {
      "name": "python3",
      "display_name": "Python 3"
    },
    "language_info": {
      "name": "python"
    }
  },
  "cells": [
    {
      "cell_type": "code",
      "source": [
        "! pip install SpeechRecognition\n",
        "! pip install nltk\n",
        "! pip install pydub"
      ],
      "metadata": {
        "id": "k_4fmVw6rT3F"
      },
      "execution_count": null,
      "outputs": []
    },
    {
      "cell_type": "code",
      "execution_count": 16,
      "metadata": {
        "colab": {
          "base_uri": "https://localhost:8080/"
        },
        "id": "AeX4GE6wrBFn",
        "outputId": "29b80403-36b7-45fb-bc7b-7e9bcc0381fe"
      },
      "outputs": [
        {
          "output_type": "stream",
          "name": "stdout",
          "text": [
            "Transcribed Text: for this week's podcast in english.com we're talking about shapes and flags yes now there are 193 national flags and the most common shape is a rectangle yeah so there's no country with a flag of just one color but some countries have just two horizontal stripes yes for instance the flag of Poland has a white stripe at the top and a red stripe at the bottom and Richard many countries have just three horizontal stripes the flag of Bulgaria is white green and red but some flags have a different shape yes three flags are different there are two flags which are okay I think one is the flag of Switzerland yes it's a square with a white cross on a red background the flag of Denmark also has a white cross on a red square no not a square it's a rectangle the second one the second one is the flag of the Vatican City on the left is yellow and on the right it's white there is one flag with a very strange shape The Nepalese flag it looks like two triangles one on top of the other very strange are the flags do you have triangles yes and both the flag of Cuba and Jordan they both have a white star on a red triangle Puerto Rico has a white star on a blue triangle yes and they also have stripes as well okay so Stripes crosses and stars what else do we see on flags circles with a large Circle in or near the middle one is the flag of Japan the flag of Bangladesh which has a large red circle put on a green background not white and also Nigeria has an orange circle and has a white circle Got Stripes okay now I think the first three are all songs but the flag of Lao is it loud is a moon yes because it's white and not red you did say Moon as well because crescents are also popular the shape of the Crescent Moon which one is your favorite that's easy man\n",
            "Sentiment Analysis: Positive\n"
          ]
        },
        {
          "output_type": "stream",
          "name": "stderr",
          "text": [
            "[nltk_data] Downloading package punkt to /root/nltk_data...\n",
            "[nltk_data]   Package punkt is already up-to-date!\n",
            "[nltk_data] Downloading package vader_lexicon to /root/nltk_data...\n",
            "[nltk_data]   Package vader_lexicon is already up-to-date!\n"
          ]
        }
      ],
      "source": [
        "import speech_recognition as sr\n",
        "import nltk\n",
        "from nltk.sentiment.vader import SentimentIntensityAnalyzer\n",
        "from pydub import AudioSegment\n",
        "\n",
        "# Initialize the ASR recognizer\n",
        "recognizer = sr.Recognizer()\n",
        "\n",
        "# Define a function to perform ASR on audio\n",
        "def transcribe_audio(audio_file):\n",
        "    with sr.AudioFile(audio_file) as source:\n",
        "        audio = recognizer.record(source)  # Record the audio from the file\n",
        "        try:\n",
        "            text = recognizer.recognize_google(audio)  # Use Google Web API for ASR\n",
        "            return text\n",
        "        except sr.UnknownValueError:\n",
        "            print(\"Google Web API could not understand audio\")\n",
        "        except sr.RequestError as e:\n",
        "            print(f\"Could not request results from Google Web API; {e}\")\n",
        "\n",
        "# Define a function for NLP sentiment analysis\n",
        "def analyze_sentiment(text):\n",
        "    nltk.download('punkt')\n",
        "    nltk.download('vader_lexicon')\n",
        "    sia = SentimentIntensityAnalyzer()\n",
        "    sentences = nltk.sent_tokenize(text)\n",
        "    compound_scores = []\n",
        "\n",
        "    for sentence in sentences:\n",
        "        compound_scores.append(sia.polarity_scores(sentence)['compound'])\n",
        "\n",
        "    avg_sentiment = sum(compound_scores) / len(compound_scores)\n",
        "\n",
        "    if avg_sentiment >= 0.05:\n",
        "        return \"Positive\"\n",
        "    elif avg_sentiment <= -0.05:\n",
        "        return \"Negative\"\n",
        "    else:\n",
        "        return \"Neutral\"\n",
        "\n",
        "if __name__ == \"__main__\":\n",
        "    audio_file = \"/content/shapes podcast.wav\"  # Replace with the path to your audio file (MP3, MP4, etc.)\n",
        "\n",
        "    transcribed_text = transcribe_audio(audio_file)\n",
        "    print(\"Transcribed Text:\", transcribed_text)\n",
        "\n",
        "    sentiment = analyze_sentiment(transcribed_text)\n",
        "    print(\"Sentiment Analysis:\", sentiment)\n"
      ]
    },
    {
      "cell_type": "code",
      "source": [],
      "metadata": {
        "id": "e7ewdVcirC35"
      },
      "execution_count": null,
      "outputs": []
    }
  ]
}